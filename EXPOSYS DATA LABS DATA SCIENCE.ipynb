{
 "cells": [
  {
   "cell_type": "code",
   "execution_count": 48,
   "id": "796cff7e",
   "metadata": {},
   "outputs": [],
   "source": [
    "import pandas as pd\n",
    "import numpy as np\n",
    "import matplotlib.pyplot as plt\n",
    "import warnings\n",
    "warnings.filterwarnings('ignore')\n",
    "import seaborn as sns "
   ]
  },
  {
   "cell_type": "markdown",
   "id": "b86ef80b",
   "metadata": {},
   "source": [
    "### IMPORTED THE REQUIRED LIBRARIES "
   ]
  },
  {
   "cell_type": "markdown",
   "id": "1f2a6693",
   "metadata": {},
   "source": [
    "### LOADING THE DATA"
   ]
  },
  {
   "cell_type": "code",
   "execution_count": 49,
   "id": "bb98dd61",
   "metadata": {},
   "outputs": [
    {
     "data": {
      "text/html": [
       "<div>\n",
       "<style scoped>\n",
       "    .dataframe tbody tr th:only-of-type {\n",
       "        vertical-align: middle;\n",
       "    }\n",
       "\n",
       "    .dataframe tbody tr th {\n",
       "        vertical-align: top;\n",
       "    }\n",
       "\n",
       "    .dataframe thead th {\n",
       "        text-align: right;\n",
       "    }\n",
       "</style>\n",
       "<table border=\"1\" class=\"dataframe\">\n",
       "  <thead>\n",
       "    <tr style=\"text-align: right;\">\n",
       "      <th></th>\n",
       "      <th>R&amp;D Spend</th>\n",
       "      <th>Administration</th>\n",
       "      <th>Marketing Spend</th>\n",
       "      <th>Profit</th>\n",
       "    </tr>\n",
       "  </thead>\n",
       "  <tbody>\n",
       "    <tr>\n",
       "      <th>0</th>\n",
       "      <td>165349.20</td>\n",
       "      <td>136897.80</td>\n",
       "      <td>471784.10</td>\n",
       "      <td>192261.83</td>\n",
       "    </tr>\n",
       "    <tr>\n",
       "      <th>1</th>\n",
       "      <td>162597.70</td>\n",
       "      <td>151377.59</td>\n",
       "      <td>443898.53</td>\n",
       "      <td>191792.06</td>\n",
       "    </tr>\n",
       "    <tr>\n",
       "      <th>2</th>\n",
       "      <td>153441.51</td>\n",
       "      <td>101145.55</td>\n",
       "      <td>407934.54</td>\n",
       "      <td>191050.39</td>\n",
       "    </tr>\n",
       "    <tr>\n",
       "      <th>3</th>\n",
       "      <td>144372.41</td>\n",
       "      <td>118671.85</td>\n",
       "      <td>383199.62</td>\n",
       "      <td>182901.99</td>\n",
       "    </tr>\n",
       "    <tr>\n",
       "      <th>4</th>\n",
       "      <td>142107.34</td>\n",
       "      <td>91391.77</td>\n",
       "      <td>366168.42</td>\n",
       "      <td>166187.94</td>\n",
       "    </tr>\n",
       "  </tbody>\n",
       "</table>\n",
       "</div>"
      ],
      "text/plain": [
       "   R&D Spend  Administration  Marketing Spend     Profit\n",
       "0  165349.20       136897.80        471784.10  192261.83\n",
       "1  162597.70       151377.59        443898.53  191792.06\n",
       "2  153441.51       101145.55        407934.54  191050.39\n",
       "3  144372.41       118671.85        383199.62  182901.99\n",
       "4  142107.34        91391.77        366168.42  166187.94"
      ]
     },
     "execution_count": 49,
     "metadata": {},
     "output_type": "execute_result"
    }
   ],
   "source": [
    "df=pd.read_csv(\"C:/Users/ambee/OneDrive/Desktop/EXPOSYS DATA LABS/50_Startups.csv\")\n",
    "df.head()"
   ]
  },
  {
   "cell_type": "code",
   "execution_count": 50,
   "id": "4a07ec23",
   "metadata": {},
   "outputs": [
    {
     "data": {
      "text/plain": [
       "(50, 4)"
      ]
     },
     "execution_count": 50,
     "metadata": {},
     "output_type": "execute_result"
    }
   ],
   "source": [
    "df.shape"
   ]
  },
  {
   "cell_type": "markdown",
   "id": "8741cc0c",
   "metadata": {},
   "source": [
    "#### DATA SET CONTAINS 4 COLUMNS AND 50 ROWS"
   ]
  },
  {
   "cell_type": "code",
   "execution_count": 51,
   "id": "ac0c85cd",
   "metadata": {},
   "outputs": [
    {
     "data": {
      "text/html": [
       "<div>\n",
       "<style scoped>\n",
       "    .dataframe tbody tr th:only-of-type {\n",
       "        vertical-align: middle;\n",
       "    }\n",
       "\n",
       "    .dataframe tbody tr th {\n",
       "        vertical-align: top;\n",
       "    }\n",
       "\n",
       "    .dataframe thead th {\n",
       "        text-align: right;\n",
       "    }\n",
       "</style>\n",
       "<table border=\"1\" class=\"dataframe\">\n",
       "  <thead>\n",
       "    <tr style=\"text-align: right;\">\n",
       "      <th></th>\n",
       "      <th>R&amp;D Spend</th>\n",
       "      <th>Administration</th>\n",
       "      <th>Marketing Spend</th>\n",
       "      <th>Profit</th>\n",
       "    </tr>\n",
       "  </thead>\n",
       "  <tbody>\n",
       "    <tr>\n",
       "      <th>count</th>\n",
       "      <td>50.000000</td>\n",
       "      <td>50.000000</td>\n",
       "      <td>50.000000</td>\n",
       "      <td>50.000000</td>\n",
       "    </tr>\n",
       "    <tr>\n",
       "      <th>mean</th>\n",
       "      <td>73721.615600</td>\n",
       "      <td>121344.639600</td>\n",
       "      <td>211025.097800</td>\n",
       "      <td>112012.639200</td>\n",
       "    </tr>\n",
       "    <tr>\n",
       "      <th>std</th>\n",
       "      <td>45902.256482</td>\n",
       "      <td>28017.802755</td>\n",
       "      <td>122290.310726</td>\n",
       "      <td>40306.180338</td>\n",
       "    </tr>\n",
       "    <tr>\n",
       "      <th>min</th>\n",
       "      <td>0.000000</td>\n",
       "      <td>51283.140000</td>\n",
       "      <td>0.000000</td>\n",
       "      <td>14681.400000</td>\n",
       "    </tr>\n",
       "    <tr>\n",
       "      <th>25%</th>\n",
       "      <td>39936.370000</td>\n",
       "      <td>103730.875000</td>\n",
       "      <td>129300.132500</td>\n",
       "      <td>90138.902500</td>\n",
       "    </tr>\n",
       "    <tr>\n",
       "      <th>50%</th>\n",
       "      <td>73051.080000</td>\n",
       "      <td>122699.795000</td>\n",
       "      <td>212716.240000</td>\n",
       "      <td>107978.190000</td>\n",
       "    </tr>\n",
       "    <tr>\n",
       "      <th>75%</th>\n",
       "      <td>101602.800000</td>\n",
       "      <td>144842.180000</td>\n",
       "      <td>299469.085000</td>\n",
       "      <td>139765.977500</td>\n",
       "    </tr>\n",
       "    <tr>\n",
       "      <th>max</th>\n",
       "      <td>165349.200000</td>\n",
       "      <td>182645.560000</td>\n",
       "      <td>471784.100000</td>\n",
       "      <td>192261.830000</td>\n",
       "    </tr>\n",
       "  </tbody>\n",
       "</table>\n",
       "</div>"
      ],
      "text/plain": [
       "           R&D Spend  Administration  Marketing Spend         Profit\n",
       "count      50.000000       50.000000        50.000000      50.000000\n",
       "mean    73721.615600   121344.639600    211025.097800  112012.639200\n",
       "std     45902.256482    28017.802755    122290.310726   40306.180338\n",
       "min         0.000000    51283.140000         0.000000   14681.400000\n",
       "25%     39936.370000   103730.875000    129300.132500   90138.902500\n",
       "50%     73051.080000   122699.795000    212716.240000  107978.190000\n",
       "75%    101602.800000   144842.180000    299469.085000  139765.977500\n",
       "max    165349.200000   182645.560000    471784.100000  192261.830000"
      ]
     },
     "execution_count": 51,
     "metadata": {},
     "output_type": "execute_result"
    }
   ],
   "source": [
    "df.describe()"
   ]
  },
  {
   "cell_type": "code",
   "execution_count": 52,
   "id": "7a90dffa",
   "metadata": {},
   "outputs": [
    {
     "name": "stdout",
     "output_type": "stream",
     "text": [
      "<class 'pandas.core.frame.DataFrame'>\n",
      "RangeIndex: 50 entries, 0 to 49\n",
      "Data columns (total 4 columns):\n",
      " #   Column           Non-Null Count  Dtype  \n",
      "---  ------           --------------  -----  \n",
      " 0   R&D Spend        50 non-null     float64\n",
      " 1   Administration   50 non-null     float64\n",
      " 2   Marketing Spend  50 non-null     float64\n",
      " 3   Profit           50 non-null     float64\n",
      "dtypes: float64(4)\n",
      "memory usage: 1.7 KB\n"
     ]
    }
   ],
   "source": [
    "df.info()"
   ]
  },
  {
   "cell_type": "code",
   "execution_count": 53,
   "id": "96fed19b",
   "metadata": {},
   "outputs": [
    {
     "data": {
      "text/plain": [
       "Index(['R&D Spend', 'Administration', 'Marketing Spend', 'Profit'], dtype='object')"
      ]
     },
     "execution_count": 53,
     "metadata": {},
     "output_type": "execute_result"
    }
   ],
   "source": [
    "df.columns"
   ]
  },
  {
   "cell_type": "markdown",
   "id": "3d6625b8",
   "metadata": {},
   "source": [
    "#### FINFING THE NULL VALUES"
   ]
  },
  {
   "cell_type": "code",
   "execution_count": 54,
   "id": "ffaef488",
   "metadata": {},
   "outputs": [
    {
     "data": {
      "text/plain": [
       "R&D Spend          0\n",
       "Administration     0\n",
       "Marketing Spend    0\n",
       "Profit             0\n",
       "dtype: int64"
      ]
     },
     "execution_count": 54,
     "metadata": {},
     "output_type": "execute_result"
    }
   ],
   "source": [
    "df.isnull().sum()"
   ]
  },
  {
   "cell_type": "markdown",
   "id": "dddb1f66",
   "metadata": {},
   "source": [
    "### No Null Values are found"
   ]
  },
  {
   "cell_type": "markdown",
   "id": "eacb5a9a",
   "metadata": {},
   "source": [
    "### DATA VISUALIZATION"
   ]
  },
  {
   "cell_type": "code",
   "execution_count": 55,
   "id": "f0ae60d1",
   "metadata": {},
   "outputs": [
    {
     "data": {
      "image/png": "[encoded data removed]",
      "text/plain": [
       "<Figure size 432x288 with 1 Axes>"
      ]
     },
     "metadata": {
      "needs_background": "light"
     },
     "output_type": "display_data"
    }
   ],
   "source": [
    "df[\"R&D Spend\"].plot(kind=\"bar\",title=\"Distribution of R&D Spend\")\n",
    "plt.show()"
   ]
  },
  {
   "cell_type": "code",
   "execution_count": 56,
   "id": "de366c19",
   "metadata": {},
   "outputs": [
    {
     "data": {
      "image/png": "[encoded data removed]",
      "text/plain": [
       "<Figure size 432x288 with 1 Axes>"
      ]
     },
     "metadata": {},
     "output_type": "display_data"
    }
   ],
   "source": [
    "import pandas as pd\n",
    "import matplotlib.pyplot as plt\n",
    "\n",
    "# Calculate total expenses (assuming other columns represent expenses)\n",
    "total_expenses = df.sum(axis=1)\n",
    "\n",
    "# Calculate Administration spend as a percentage of total expenses\n",
    "administration_pct = (df[\"Administration\"] / total_expenses) * 100\n",
    "\n",
    "# Create the pie chart\n",
    "administration_pct.plot(kind=\"pie\", autopct=\"%1.1f%%\", title=\"Distribution of Administration Spend (% of Total)\")\n",
    "plt.show()"
   ]
  },
  {
   "cell_type": "markdown",
   "id": "a4dac80d",
   "metadata": {},
   "source": [
    "#### PAIRPLOT"
   ]
  },
  {
   "cell_type": "code",
   "execution_count": 57,
   "id": "38aa571e",
   "metadata": {},
   "outputs": [
    {
     "data": {
      "image/png": "[encoded data removed]",
      "text/plain": [
       "<Figure size 720x720 with 20 Axes>"
      ]
     },
     "metadata": {
      "needs_background": "light"
     },
     "output_type": "display_data"
    }
   ],
   "source": [
    "sns.pairplot(df)\n",
    "plt.show()"
   ]
  },
  {
   "cell_type": "markdown",
   "id": "b75d6815",
   "metadata": {},
   "source": [
    "#### VIEWING THE CORELATION BETWEEN COLUMNS"
   ]
  },
  {
   "cell_type": "code",
   "execution_count": 58,
   "id": "17909e58",
   "metadata": {},
   "outputs": [
    {
     "data": {
      "image/png": "[encoded data removed]",
      "text/plain": [
       "<Figure size 576x432 with 2 Axes>"
      ]
     },
     "metadata": {
      "needs_background": "light"
     },
     "output_type": "display_data"
    }
   ],
   "source": [
    "plt.figure(figsize=(8,6))\n",
    "sns.heatmap(df.corr(), annot=True, cmap=\"coolwarm\")\n",
    "plt.show()"
   ]
  },
  {
   "cell_type": "markdown",
   "id": "a6c2ff23",
   "metadata": {},
   "source": [
    "#### Feature Selection\n",
    "#### Features: 'R&D Spend', 'Administration', 'Marketing Spend'\n",
    "#### Target: 'Profit'"
   ]
  },
  {
   "cell_type": "code",
   "execution_count": 59,
   "id": "2ef49435",
   "metadata": {},
   "outputs": [],
   "source": [
    "\n",
    "X = df[['R&D Spend', 'Administration', 'Marketing Spend']]\n",
    "y = df['Profit']"
   ]
  },
  {
   "cell_type": "markdown",
   "id": "cfc8649f",
   "metadata": {},
   "source": [
    "### IMPORATING THE REQUIRED MACHINE LEARNING LIBRARIES"
   ]
  },
  {
   "cell_type": "code",
   "execution_count": 60,
   "id": "607b7cfb",
   "metadata": {},
   "outputs": [],
   "source": [
    "from sklearn.model_selection import train_test_split\n",
    "from sklearn.linear_model import LinearRegression\n",
    "from sklearn.tree import DecisionTreeRegressor\n",
    "from sklearn.ensemble import RandomForestRegressor, GradientBoostingRegressor\n",
    "from sklearn.svm import SVR\n",
    "from sklearn.metrics import mean_absolute_error, mean_squared_error, r2_score\n"
   ]
  },
  {
   "cell_type": "markdown",
   "id": "6d6143f1",
   "metadata": {},
   "source": [
    "### Data Splitting\n",
    "#### Split the data into training and test sets (80% train, 20% test)"
   ]
  },
  {
   "cell_type": "code",
   "execution_count": 61,
   "id": "22863cf3",
   "metadata": {},
   "outputs": [],
   "source": [
    "\n",
    "X_train, X_test, y_train, y_test = train_test_split(X, y, test_size=0.2, random_state=42)"
   ]
  },
  {
   "cell_type": "markdown",
   "id": "cbd5d7dd",
   "metadata": {},
   "source": [
    "### Model Building\n",
    "#### Train multiple regression models"
   ]
  },
  {
   "cell_type": "markdown",
   "id": "307ca42c",
   "metadata": {},
   "source": [
    "### 1. Linear Regression"
   ]
  },
  {
   "cell_type": "code",
   "execution_count": 62,
   "id": "9c8189d5",
   "metadata": {},
   "outputs": [],
   "source": [
    "\n",
    "lr_model = LinearRegression().fit(X_train, y_train)"
   ]
  },
  {
   "cell_type": "markdown",
   "id": "61051e91",
   "metadata": {},
   "source": [
    "### 2. Decision Tree Regression"
   ]
  },
  {
   "cell_type": "code",
   "execution_count": 63,
   "id": "29f5cbfd",
   "metadata": {},
   "outputs": [],
   "source": [
    "\n",
    "dt_model = DecisionTreeRegressor().fit(X_train, y_train)"
   ]
  },
  {
   "cell_type": "markdown",
   "id": "75e7db17",
   "metadata": {},
   "source": [
    "### 3. Random Forest Regression"
   ]
  },
  {
   "cell_type": "code",
   "execution_count": 64,
   "id": "23ce76a0",
   "metadata": {},
   "outputs": [],
   "source": [
    "\n",
    "rf_model = RandomForestRegressor().fit(X_train, y_train)"
   ]
  },
  {
   "cell_type": "markdown",
   "id": "e7d7fcd2",
   "metadata": {},
   "source": [
    "### 4. Support Vector Regression"
   ]
  },
  {
   "cell_type": "code",
   "execution_count": 65,
   "id": "8639971a",
   "metadata": {},
   "outputs": [],
   "source": [
    "\n",
    "svr_model = SVR().fit(X_train, y_train)"
   ]
  },
  {
   "cell_type": "markdown",
   "id": "e4b6132e",
   "metadata": {},
   "source": [
    "### 5. Gradient Boosting"
   ]
  },
  {
   "cell_type": "code",
   "execution_count": 66,
   "id": "44aea2d9",
   "metadata": {},
   "outputs": [],
   "source": [
    "\n",
    "gb_model = GradientBoostingRegressor().fit(X_train, y_train)"
   ]
  },
  {
   "cell_type": "markdown",
   "id": "bc33471d",
   "metadata": {},
   "source": [
    "### Model Prediction\n",
    "#### Predict on the test set using all models"
   ]
  },
  {
   "cell_type": "code",
   "execution_count": 67,
   "id": "c637573b",
   "metadata": {},
   "outputs": [],
   "source": [
    "\n",
    "y_pred_lr = lr_model.predict(X_test)\n",
    "y_pred_dt = dt_model.predict(X_test)\n",
    "y_pred_rf = rf_model.predict(X_test)\n",
    "y_pred_svr = svr_model.predict(X_test)\n",
    "y_pred_gb = gb_model.predict(X_test)"
   ]
  },
  {
   "cell_type": "markdown",
   "id": "1d19300c",
   "metadata": {},
   "source": [
    "### Model Evaluation\n",
    "#### Create a function to calculate and print evaluation metrics"
   ]
  },
  {
   "cell_type": "code",
   "execution_count": 68,
   "id": "dc110903",
   "metadata": {},
   "outputs": [],
   "source": [
    "\n",
    "def print_metrics(y_test, y_pred, model_name):\n",
    "    mae = mean_absolute_error(y_test, y_pred)\n",
    "    mse = mean_squared_error(y_test, y_pred)\n",
    "    rmse = np.sqrt(mse)\n",
    "    r2 = r2_score(y_test, y_pred)\n",
    "    print(f\"{model_name} - MAE: {mae}, MSE: {mse}, RMSE: {rmse}, R2 Score: {r2}\")"
   ]
  },
  {
   "cell_type": "code",
   "execution_count": 69,
   "id": "c76358ff",
   "metadata": {},
   "outputs": [
    {
     "name": "stdout",
     "output_type": "stream",
     "text": [
      "Linear Regression - MAE: 6979.1522523704, MSE: 80926321.22295156, RMSE: 8995.905803361413, R2 Score: 0.9000653083037321\n",
      "Decision Tree - MAE: 6752.682999999995, MSE: 76899170.09800991, RMSE: 8769.217188438766, R2 Score: 0.9050383763983088\n",
      "Random Forest - MAE: 6409.229029999971, MSE: 80775105.84557183, RMSE: 8987.497195858914, R2 Score: 0.900252041889169\n",
      "SVR - MAE: 22844.10930188185, MSE: 955479565.0702635, RMSE: 30910.832487499647, R2 Score: -0.1799072825060064\n",
      "Gradient Boosting - MAE: 8057.586869585533, MSE: 76488651.7367968, RMSE: 8745.779081179491, R2 Score: 0.9055453193217423\n"
     ]
    }
   ],
   "source": [
    "# Print metrics for all models\n",
    "print_metrics(y_test, y_pred_lr, \"Linear Regression\")\n",
    "print_metrics(y_test, y_pred_dt, \"Decision Tree\")\n",
    "print_metrics(y_test, y_pred_rf, \"Random Forest\")\n",
    "print_metrics(y_test, y_pred_svr, \"SVR\")\n",
    "print_metrics(y_test, y_pred_gb, \"Gradient Boosting\")"
   ]
  },
  {
   "cell_type": "markdown",
   "id": "24013c3a",
   "metadata": {},
   "source": [
    "## Comparison of Metrics:\n",
    "### Model:\t                 MAE\t   MSE  \t        RMSE\t            R² Score\n",
    "#### Linear Regression:\t6979.15\t;   80, 926, 321;\t  8995.91 ;\t          0.9001\n",
    "#### Decision Tree:    \t 10,926.72;\t   319,876,763;\t    17,885.10;\t           0.6050\n",
    "#### Random Forest:\t    6510.51;\t 93,275,923;\t       9657.95;\t           0.8848\n",
    "#### SVR:\t                  22,844.11;\t 955,479,565;\t  30,910.83;          -0.1799\n",
    "#### Gradient Boosting:\t8600.02;\t85, 846, 621;\t  9265.35;\t          0.8940"
   ]
  },
  {
   "cell_type": "markdown",
   "id": "e3b3a21c",
   "metadata": {},
   "source": [
    "#### FROM ABOVE REGRESSIONS MODEL'S EVALUATION METRICS :\n",
    "#### LINEAR REGRESSION "
   ]
  },
  {
   "cell_type": "markdown",
   "id": "6e9941db",
   "metadata": {},
   "source": [
    "#### First, train the Linear Regression model (only once)"
   ]
  },
  {
   "cell_type": "code",
   "execution_count": 70,
   "id": "d11910e8",
   "metadata": {},
   "outputs": [
    {
     "data": {
      "text/plain": [
       "LinearRegression()"
      ]
     },
     "execution_count": 70,
     "metadata": {},
     "output_type": "execute_result"
    }
   ],
   "source": [
    "linear_regression_model = LinearRegression()\n",
    "linear_regression_model.fit(X_train, y_train)"
   ]
  },
  {
   "cell_type": "markdown",
   "id": "67bf386f",
   "metadata": {},
   "source": [
    "### Function to predict profit based on positional arguments (no need to specify argument names)"
   ]
  },
  {
   "cell_type": "code",
   "execution_count": 71,
   "id": "025b634c",
   "metadata": {},
   "outputs": [],
   "source": [
    "\n",
    "def predict_profit(*args):\n",
    "    # Calculate mean values for Administration and Marketing Spend\n",
    "    admin_mean = X_train['Administration'].mean()\n",
    "    marketing_mean = X_train['Marketing Spend'].mean()\n",
    "    \n",
    "    # Extract values based on position; if not provided, use defaults\n",
    "    r_and_d_spend = args[0] if len(args) > 0 and args[0] is not None else X_train['R&D Spend'].mean()\n",
    "    administration_cost = args[1] if len(args) > 1 and args[1] is not None else admin_mean\n",
    "    marketing_spend = args[2] if len(args) > 2 and args[2] is not None else marketing_mean\n",
    "\n",
    "    # Create input array with the available data\n",
    "    input_data = np.array([[r_and_d_spend, administration_cost, marketing_spend]])\n",
    "\n",
    "    # Make prediction using the pre-trained linear regression model\n",
    "    predicted_profit = linear_regression_model.predict(input_data)\n",
    "\n",
    "    return predicted_profit[0]"
   ]
  },
  {
   "cell_type": "markdown",
   "id": "17ced529",
   "metadata": {},
   "source": [
    "#### Testing the function with different cases (without specifying argument names):"
   ]
  },
  {
   "cell_type": "code",
   "execution_count": 72,
   "id": "d74c0d31",
   "metadata": {},
   "outputs": [
    {
     "name": "stdout",
     "output_type": "stream",
     "text": [
      "Predicted Profit (only R&D Spend): $181812.52\n"
     ]
    }
   ],
   "source": [
    "# 1. Only R&D Spend is entered (positional)\n",
    "predicted_profit = predict_profit(160000)\n",
    "print(f\"Predicted Profit (only R&D Spend): ${predicted_profit:.2f}\")"
   ]
  },
  {
   "cell_type": "code",
   "execution_count": 73,
   "id": "1e3f315d",
   "metadata": {},
   "outputs": [
    {
     "name": "stdout",
     "output_type": "stream",
     "text": [
      "Predicted Profit (R&D Spend and Marketing Spend): $183819.88\n"
     ]
    }
   ],
   "source": [
    "# 2. R&D Spend and Marketing Spend are entered (positional)\n",
    "predicted_profit = predict_profit(160000, None, 300000)\n",
    "print(f\"Predicted Profit (R&D Spend and Marketing Spend): ${predicted_profit:.2f}\")"
   ]
  },
  {
   "cell_type": "code",
   "execution_count": 74,
   "id": "58d6ff34",
   "metadata": {},
   "outputs": [
    {
     "name": "stdout",
     "output_type": "stream",
     "text": [
      "Predicted Profit (only Marketing Spend): $117659.08\n"
     ]
    }
   ],
   "source": [
    "# 3. Only Marketing Spend is entered (positional)\n",
    "predicted_profit = predict_profit(None, None, 300000)\n",
    "print(f\"Predicted Profit (only Marketing Spend): ${predicted_profit:.2f}\")"
   ]
  },
  {
   "cell_type": "code",
   "execution_count": 75,
   "id": "a1a06860",
   "metadata": {},
   "outputs": [
    {
     "name": "stdout",
     "output_type": "stream",
     "text": [
      "Predicted Profit (all values): $183218.23\n"
     ]
    }
   ],
   "source": [
    "# 4. All three values are entered (positional)\n",
    "predicted_profit = predict_profit(160000, 130000, 300000)\n",
    "print(f\"Predicted Profit (all values): ${predicted_profit:.2f}\")"
   ]
  },
  {
   "cell_type": "code",
   "execution_count": 76,
   "id": "f83ac29f",
   "metadata": {},
   "outputs": [
    {
     "name": "stdout",
     "output_type": "stream",
     "text": [
      "Predicted Profit (no values entered): $115651.72\n"
     ]
    }
   ],
   "source": [
    "# 5. No values entered (all defaults used)\n",
    "predicted_profit = predict_profit()\n",
    "print(f\"Predicted Profit (no values entered): ${predicted_profit:.2f}\")"
   ]
  },
  {
   "cell_type": "code",
   "execution_count": 33,
   "id": "88594ce8",
   "metadata": {},
   "outputs": [
    {
     "name": "stdout",
     "output_type": "stream",
     "text": [
      "75099.66431201264\n"
     ]
    }
   ],
   "source": [
    "print(predict_profit(17000,23))"
   ]
  },
  {
   "cell_type": "code",
   "execution_count": null,
   "id": "7f0a96d3",
   "metadata": {},
   "outputs": [],
   "source": []
  }
 ],
 "metadata": {
  "kernelspec": {
   "display_name": "Python 3 (ipykernel)",
   "language": "python",
   "name": "python3"
  },
  "language_info": {
   "codemirror_mode": {
    "name": "ipython",
    "version": 3
   },
   "file_extension": ".py",
   "mimetype": "text/x-python",
   "name": "python",
   "nbconvert_exporter": "python",
   "pygments_lexer": "ipython3",
   "version": "3.9.7"
  }
 },
 "nbformat": 4,
 "nbformat_minor": 5
}
